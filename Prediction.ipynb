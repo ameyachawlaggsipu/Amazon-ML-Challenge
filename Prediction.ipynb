{
 "cells": [
  {
   "cell_type": "code",
   "execution_count": 1,
   "id": "ab304458",
   "metadata": {},
   "outputs": [],
   "source": [
    "from scipy import sparse\n",
    "train_x=sparse.load_npz('final_train_x.npz')"
   ]
  },
  {
   "cell_type": "code",
   "execution_count": 2,
   "id": "9c45f6d6",
   "metadata": {},
   "outputs": [],
   "source": [
    "test_x=sparse.load_npz('final_test_x.npz')"
   ]
  },
  {
   "cell_type": "code",
   "execution_count": 3,
   "id": "7c934db2",
   "metadata": {},
   "outputs": [
    {
     "name": "stdout",
     "output_type": "stream",
     "text": [
      "(2903024, 300001) (110775, 300001)\n"
     ]
    }
   ],
   "source": [
    "print(train_x.shape,test_x.shape)"
   ]
  },
  {
   "cell_type": "code",
   "execution_count": null,
   "id": "ed0a2db5",
   "metadata": {},
   "outputs": [],
   "source": []
  },
  {
   "cell_type": "code",
   "execution_count": null,
   "id": "157c4908",
   "metadata": {},
   "outputs": [],
   "source": []
  },
  {
   "cell_type": "code",
   "execution_count": null,
   "id": "7e6d84bc",
   "metadata": {},
   "outputs": [],
   "source": []
  },
  {
   "cell_type": "code",
   "execution_count": null,
   "id": "b682da01",
   "metadata": {},
   "outputs": [],
   "source": []
  },
  {
   "cell_type": "code",
   "execution_count": null,
   "id": "783c04e1",
   "metadata": {},
   "outputs": [],
   "source": []
  },
  {
   "cell_type": "code",
   "execution_count": 4,
   "id": "c7063973",
   "metadata": {},
   "outputs": [
    {
     "name": "stdout",
     "output_type": "stream",
     "text": [
      "(2903024,)\n"
     ]
    },
    {
     "data": {
      "text/plain": [
       "0                0\n",
       "1                1\n",
       "2                2\n",
       "3                3\n",
       "4                4\n",
       "            ...   \n",
       "2903019       1040\n",
       "2903020      15199\n",
       "2903021    1044933\n",
       "2903022      14790\n",
       "2903023       1213\n",
       "Name: BROWSE_NODE_ID, Length: 2903024, dtype: int64"
      ]
     },
     "execution_count": 4,
     "metadata": {},
     "output_type": "execute_result"
    }
   ],
   "source": [
    "import pandas as pd\n",
    "import csv\n",
    "train_y=pd.read_csv('train.csv',escapechar='\\\\',quoting=csv.QUOTE_NONE)\n",
    "train_y=train_y['BROWSE_NODE_ID']\n",
    "print(train_y.shape)\n",
    "train_y"
   ]
  },
  {
   "cell_type": "code",
   "execution_count": null,
   "id": "47e7aae9",
   "metadata": {},
   "outputs": [],
   "source": []
  },
  {
   "cell_type": "code",
   "execution_count": null,
   "id": "f3851474",
   "metadata": {},
   "outputs": [],
   "source": []
  },
  {
   "cell_type": "code",
   "execution_count": null,
   "id": "5ee25b08",
   "metadata": {},
   "outputs": [],
   "source": []
  },
  {
   "cell_type": "code",
   "execution_count": 5,
   "id": "1a376ed0",
   "metadata": {},
   "outputs": [],
   "source": [
    "from sklearn.naive_bayes import MultinomialNB\n",
    "nb=MultinomialNB()"
   ]
  },
  {
   "cell_type": "code",
   "execution_count": 6,
   "id": "46bbc7dc",
   "metadata": {},
   "outputs": [],
   "source": [
    "import numpy as np"
   ]
  },
  {
   "cell_type": "code",
   "execution_count": 7,
   "id": "bcc80187",
   "metadata": {},
   "outputs": [
    {
     "name": "stdout",
     "output_type": "stream",
     "text": [
      "0 100000\n",
      "100000 200000\n",
      "200000 300000\n",
      "300000 400000\n",
      "400000 500000\n",
      "500000 600000\n",
      "600000 700000\n",
      "700000 800000\n",
      "800000 900000\n",
      "900000 1000000\n",
      "1000000 1100000\n",
      "1100000 1200000\n",
      "1200000 1300000\n",
      "1300000 1400000\n",
      "1400000 1500000\n",
      "1500000 1600000\n",
      "1600000 1700000\n",
      "1700000 1800000\n",
      "1800000 1900000\n",
      "1900000 2000000\n",
      "2000000 2100000\n",
      "2100000 2200000\n",
      "2200000 2300000\n",
      "2300000 2400000\n",
      "2400000 2500000\n",
      "2500000 2600000\n",
      "2600000 2700000\n",
      "2700000 2800000\n",
      "2800000 2900000\n"
     ]
    }
   ],
   "source": [
    "for j in range(100000,2903023,100000):\n",
    "    print(j-100000,j)\n",
    "    nb.partial_fit(train_x[j-100000:j,:],train_y[j-100000:j],classes=np.unique(train_y))\n",
    "    "
   ]
  },
  {
   "cell_type": "code",
   "execution_count": 8,
   "id": "4bfffb72",
   "metadata": {},
   "outputs": [
    {
     "data": {
      "text/plain": [
       "MultinomialNB()"
      ]
     },
     "execution_count": 8,
     "metadata": {},
     "output_type": "execute_result"
    }
   ],
   "source": [
    "nb.partial_fit(train_x[2900000:,:],train_y[2900000:])"
   ]
  },
  {
   "cell_type": "code",
   "execution_count": 9,
   "id": "0cd37827",
   "metadata": {},
   "outputs": [],
   "source": [
    "result=nb.predict(test_x)"
   ]
  },
  {
   "cell_type": "code",
   "execution_count": 10,
   "id": "7eb1b487",
   "metadata": {},
   "outputs": [
    {
     "data": {
      "text/plain": [
       "sklearn.naive_bayes.MultinomialNB"
      ]
     },
     "execution_count": 10,
     "metadata": {},
     "output_type": "execute_result"
    }
   ],
   "source": [
    "type(nb)"
   ]
  },
  {
   "cell_type": "code",
   "execution_count": 11,
   "id": "dedd97f7",
   "metadata": {},
   "outputs": [
    {
     "name": "stdout",
     "output_type": "stream",
     "text": [
      "(110775,)\n",
      "[  74   89  993    4 1922    4    4  993    4 1024    4 1024 1295 2321\n",
      " 1287  890  890  787   89  251 2594 1079 2594 1045    4  739 1024 1045\n",
      "    4    4 1045  890  106    4    4 2229 2040 2229   55 1024 1024   89\n",
      " 1045 1045 1045  413    4  796 1045    4]\n"
     ]
    }
   ],
   "source": [
    "print(result.shape)\n",
    "print(result[:50])"
   ]
  },
  {
   "cell_type": "code",
   "execution_count": 12,
   "id": "aca8f94c",
   "metadata": {},
   "outputs": [],
   "source": [
    "import numpy as np"
   ]
  },
  {
   "cell_type": "code",
   "execution_count": 13,
   "id": "10f8ee48",
   "metadata": {},
   "outputs": [
    {
     "data": {
      "text/plain": [
       "array([      0,       1,       4, ..., 2469860, 2602634, 2741191],\n",
       "      dtype=int64)"
      ]
     },
     "execution_count": 13,
     "metadata": {},
     "output_type": "execute_result"
    }
   ],
   "source": [
    "np.unique(result)"
   ]
  },
  {
   "cell_type": "code",
   "execution_count": 14,
   "id": "853c9bb7",
   "metadata": {},
   "outputs": [],
   "source": [
    "dict={'BROWSE_NODE_ID':result}"
   ]
  },
  {
   "cell_type": "code",
   "execution_count": 15,
   "id": "6eb3aaeb",
   "metadata": {},
   "outputs": [],
   "source": [
    "import pandas as pd"
   ]
  },
  {
   "cell_type": "code",
   "execution_count": 16,
   "id": "df1269ce",
   "metadata": {},
   "outputs": [],
   "source": [
    "id=[]\n",
    "for j in range(1,110776):\n",
    "    id.append(j)"
   ]
  },
  {
   "cell_type": "code",
   "execution_count": 17,
   "id": "fb9772d5",
   "metadata": {},
   "outputs": [],
   "source": [
    "dict={'PRODUCT_ID':id,'BROWSE_NODE_ID':result}"
   ]
  },
  {
   "cell_type": "code",
   "execution_count": 18,
   "id": "debd3600",
   "metadata": {},
   "outputs": [],
   "source": [
    "df=pd.DataFrame(dict)"
   ]
  },
  {
   "cell_type": "code",
   "execution_count": 19,
   "id": "39ecd553",
   "metadata": {},
   "outputs": [
    {
     "data": {
      "text/plain": [
       "110775"
      ]
     },
     "execution_count": 19,
     "metadata": {},
     "output_type": "execute_result"
    }
   ],
   "source": [
    "len(id)"
   ]
  },
  {
   "cell_type": "code",
   "execution_count": 20,
   "id": "a0b67ce2",
   "metadata": {},
   "outputs": [
    {
     "data": {
      "text/plain": [
       "(110775,)"
      ]
     },
     "execution_count": 20,
     "metadata": {},
     "output_type": "execute_result"
    }
   ],
   "source": [
    "result.shape"
   ]
  },
  {
   "cell_type": "code",
   "execution_count": 21,
   "id": "159f9e0a",
   "metadata": {},
   "outputs": [
    {
     "data": {
      "text/plain": [
       "(array([      0,       1,       4, ..., 2469860, 2602634, 2741191],\n",
       "       dtype=int64),\n",
       " array([    3,    15, 18448, ...,     6,    16,    24], dtype=int64))"
      ]
     },
     "execution_count": 21,
     "metadata": {},
     "output_type": "execute_result"
    }
   ],
   "source": [
    "np.unique(result, return_counts=True)"
   ]
  },
  {
   "cell_type": "code",
   "execution_count": 22,
   "id": "1b4028a2",
   "metadata": {},
   "outputs": [
    {
     "data": {
      "text/html": [
       "<div>\n",
       "<style scoped>\n",
       "    .dataframe tbody tr th:only-of-type {\n",
       "        vertical-align: middle;\n",
       "    }\n",
       "\n",
       "    .dataframe tbody tr th {\n",
       "        vertical-align: top;\n",
       "    }\n",
       "\n",
       "    .dataframe thead th {\n",
       "        text-align: right;\n",
       "    }\n",
       "</style>\n",
       "<table border=\"1\" class=\"dataframe\">\n",
       "  <thead>\n",
       "    <tr style=\"text-align: right;\">\n",
       "      <th></th>\n",
       "      <th>PRODUCT_ID</th>\n",
       "      <th>BROWSE_NODE_ID</th>\n",
       "    </tr>\n",
       "  </thead>\n",
       "  <tbody>\n",
       "    <tr>\n",
       "      <th>0</th>\n",
       "      <td>1</td>\n",
       "      <td>74</td>\n",
       "    </tr>\n",
       "    <tr>\n",
       "      <th>1</th>\n",
       "      <td>2</td>\n",
       "      <td>89</td>\n",
       "    </tr>\n",
       "    <tr>\n",
       "      <th>2</th>\n",
       "      <td>3</td>\n",
       "      <td>993</td>\n",
       "    </tr>\n",
       "    <tr>\n",
       "      <th>3</th>\n",
       "      <td>4</td>\n",
       "      <td>4</td>\n",
       "    </tr>\n",
       "    <tr>\n",
       "      <th>4</th>\n",
       "      <td>5</td>\n",
       "      <td>1922</td>\n",
       "    </tr>\n",
       "  </tbody>\n",
       "</table>\n",
       "</div>"
      ],
      "text/plain": [
       "   PRODUCT_ID  BROWSE_NODE_ID\n",
       "0           1              74\n",
       "1           2              89\n",
       "2           3             993\n",
       "3           4               4\n",
       "4           5            1922"
      ]
     },
     "execution_count": 22,
     "metadata": {},
     "output_type": "execute_result"
    }
   ],
   "source": [
    "df.head()"
   ]
  },
  {
   "cell_type": "code",
   "execution_count": 23,
   "id": "9e3140bd",
   "metadata": {},
   "outputs": [],
   "source": [
    "df.to_csv('final_output.csv',index=False)"
   ]
  },
  {
   "cell_type": "code",
   "execution_count": null,
   "id": "60b455da",
   "metadata": {},
   "outputs": [],
   "source": []
  },
  {
   "cell_type": "code",
   "execution_count": null,
   "id": "ea552fe1",
   "metadata": {},
   "outputs": [],
   "source": []
  },
  {
   "cell_type": "code",
   "execution_count": null,
   "id": "8f8a7472",
   "metadata": {},
   "outputs": [],
   "source": []
  },
  {
   "cell_type": "code",
   "execution_count": null,
   "id": "b01c20ec",
   "metadata": {},
   "outputs": [],
   "source": []
  },
  {
   "cell_type": "code",
   "execution_count": null,
   "id": "e063a4c7",
   "metadata": {},
   "outputs": [],
   "source": [
    "\n"
   ]
  },
  {
   "cell_type": "code",
   "execution_count": null,
   "id": "33009cd1",
   "metadata": {},
   "outputs": [],
   "source": []
  },
  {
   "cell_type": "code",
   "execution_count": null,
   "id": "5113a97e",
   "metadata": {},
   "outputs": [],
   "source": []
  },
  {
   "cell_type": "code",
   "execution_count": null,
   "id": "7c8e0b3d",
   "metadata": {},
   "outputs": [],
   "source": []
  },
  {
   "cell_type": "code",
   "execution_count": null,
   "id": "c933b8a2",
   "metadata": {},
   "outputs": [],
   "source": []
  }
 ],
 "metadata": {
  "kernelspec": {
   "display_name": "Python 3 (ipykernel)",
   "language": "python",
   "name": "python3"
  },
  "language_info": {
   "codemirror_mode": {
    "name": "ipython",
    "version": 3
   },
   "file_extension": ".py",
   "mimetype": "text/x-python",
   "name": "python",
   "nbconvert_exporter": "python",
   "pygments_lexer": "ipython3",
   "version": "3.9.5"
  }
 },
 "nbformat": 4,
 "nbformat_minor": 5
}
